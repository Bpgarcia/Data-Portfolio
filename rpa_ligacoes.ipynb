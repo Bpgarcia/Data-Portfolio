{
 "cells": [
  {
   "cell_type": "code",
   "execution_count": 1,
   "metadata": {},
   "outputs": [],
   "source": [
    "from selenium import webdriver\n",
    "from selenium.webdriver.common.by import By\n",
    "from selenium.webdriver.common.keys import Keys\n",
    "from datetime import datetime, timedelta\n",
    "from selenium.webdriver.support.ui import WebDriverWait\n",
    "from selenium.webdriver.support import expected_conditions as EC\n",
    "import time"
   ]
  },
  {
   "cell_type": "markdown",
   "metadata": {},
   "source": [
    "### LOGIN"
   ]
  },
  {
   "cell_type": "code",
   "execution_count": 2,
   "metadata": {},
   "outputs": [],
   "source": [
    "driver = webdriver.Chrome()\n",
    "driver.get(\"https://pabx.flux.net.br/2cd33c87b7424360833b8281b64046ea/index.php\")\n",
    "\n",
    "# Localiza os campos de login e senha\n",
    "username_field = driver.find_element(By.NAME, \"login\") \n",
    "password_field = driver.find_element(By.NAME, \"pass\")  \n",
    "\n",
    "# Insere as credenciais\n",
    "username_field.send_keys(\"FazComexRelatorios\")  \n",
    "password_field.send_keys(\"relatorios@2023\")   \n",
    "\n",
    "# Pressiona o botão de login\n",
    "password_field.send_keys(Keys.RETURN)\n",
    "\n",
    "time.sleep(5)"
   ]
  },
  {
   "cell_type": "markdown",
   "metadata": {},
   "source": [
    "### Filtro de Data"
   ]
  },
  {
   "cell_type": "code",
   "execution_count": 3,
   "metadata": {},
   "outputs": [],
   "source": [
    "# Configuração de escrita data D-1\n",
    "start_datetime = (datetime.now() - timedelta(days=1)).strftime(\"%d/%m/%Y 00:00:00\")\n",
    "end_datetime = (datetime.now() - timedelta(days=1)).strftime(\"%d/%m/%Y 23:59:59\")    \n",
    "\n",
    "# Localiza os campos de filtro de data\n",
    "start_date_field = driver.find_element(By.ID, \"data_inicial\")  \n",
    "end_date_field = driver.find_element(By.ID, \"data_final\")      \n",
    "\n",
    "# Preenche os campos com a data de ontem conforme configuração\n",
    "start_date_field.clear()\n",
    "start_date_field.send_keys(start_datetime)  \n",
    "end_date_field.clear()\n",
    "end_date_field.send_keys(end_datetime)      \n",
    "\n",
    "# Clica no botão para aplicar o filtro\n",
    "search_button = driver.find_element(By.CLASS_NAME, \"btn-primary\") \n",
    "search_button.click()"
   ]
  },
  {
   "cell_type": "markdown",
   "metadata": {},
   "source": [
    "### Download Tabela"
   ]
  },
  {
   "cell_type": "code",
   "execution_count": 4,
   "metadata": {},
   "outputs": [],
   "source": [
    "download_button = WebDriverWait(driver, 5).until(\n",
    "    EC.element_to_be_clickable((By.ID, \"botao_csv\"))\n",
    ")\n",
    "\n",
    "download_button.click()\n",
    "time.sleep(4)\n",
    "driver.quit()"
   ]
  },
  {
   "cell_type": "markdown",
   "metadata": {},
   "source": [
    "### Atualização incremental"
   ]
  },
  {
   "cell_type": "code",
   "execution_count": null,
   "metadata": {},
   "outputs": [],
   "source": [
    "import pandas as pd\n",
    "import glob\n",
    "import os"
   ]
  },
  {
   "cell_type": "code",
   "execution_count": null,
   "metadata": {},
   "outputs": [
    {
     "name": "stdout",
     "output_type": "stream",
     "text": [
      "Arquivo detectado: C:\\Users\\Bruno\\Downloads\\relatorio_ligacoes_09_05_2025.csv\n"
     ]
    }
   ],
   "source": [
    "# Definir o diretório onde o arquivo CSV é baixado\n",
    "diretorio_downloads = r\"C:\\Users\\Bruno\\Downloads\"\n",
    "\n",
    "# Procurar pelo arquivo que começa com \"relatorio_ligacoes\" no diretório\n",
    "arquivos_csv = glob.glob(os.path.join(diretorio_downloads, \"relatorio_ligacoes_*.csv\"))\n",
    "\n",
    "if arquivos_csv:\n",
    "    # Selecionar o arquivo mais recente\n",
    "    arquivo_csv = max(arquivos_csv, key=os.path.getctime)\n",
    "    print(f\"Arquivo detectado: {arquivo_csv}\")\n",
    "else:\n",
    "    print(\"Nenhum arquivo encontrado com o padrão especificado.\")\n",
    "    exit()  # Encerra o script se nenhum arquivo for encontrado"
   ]
  },
  {
   "cell_type": "code",
   "execution_count": null,
   "metadata": {},
   "outputs": [
    {
     "name": "stdout",
     "output_type": "stream",
     "text": [
      "Arquivo Excel atualizado salvo em C:\\Users\\Bruno\\Documents\\ligacoes\\ligacoes_2024_25.xlsx\n"
     ]
    }
   ],
   "source": [
    "caminho_arquivo_xlsx = r\"C:\\Users\\Bruno\\Documents\\ligacoes\\ligacoes_2024_25.xlsx\"\n",
    "\n",
    "# Carregar a tabela existente de ligações em XLSX\n",
    "tabela_ligacoes = pd.read_excel(caminho_arquivo_xlsx)\n",
    "\n",
    "# Carregar o arquivo CSV detectado\n",
    "novos_dados = pd.read_csv(arquivo_csv)\n",
    "\n",
    "# Fazer um merge incremental com base na coluna ID\n",
    "df = pd.concat([tabela_ligacoes, novos_dados]).drop_duplicates(subset=['ID'], keep='last')\n",
    "df = df.iloc[:-1]\n",
    "\n",
    "# Salva o excel atualizado na pasta\n",
    "df.to_excel(caminho_arquivo_xlsx, index=False)\n",
    "print(f\"Arquivo Excel atualizado salvo em {caminho_arquivo_xlsx}\")\n"
   ]
  },
  {
   "cell_type": "markdown",
   "metadata": {},
   "source": [
    "### Transformações"
   ]
  },
  {
   "cell_type": "code",
   "execution_count": null,
   "metadata": {},
   "outputs": [
    {
     "data": {
      "text/plain": [
       "ID                  object\n",
       "HORA        datetime64[ns]\n",
       "EVENTO              object\n",
       "Nº A                object\n",
       "Nº B                object\n",
       "RAMAL               object\n",
       "SENTIDO             object\n",
       "DURAÇÃO              int64\n",
       "FILA                object\n",
       "GRAVAÇÃO            object\n",
       "dtype: object"
      ]
     },
     "execution_count": 7,
     "metadata": {},
     "output_type": "execute_result"
    }
   ],
   "source": [
    "# conversão de colunas\n",
    "df['ID'] = df['ID'].astype(str)\n",
    "df[\"HORA\"] = pd.to_datetime(df[\"HORA\"], format='%d/%m/%Y %H:%M:%S')\n",
    "df['Nº A'] = df['Nº A'].astype(str)\n",
    "df['Nº B'] = df['Nº B'].astype(str)\n",
    "df['RAMAL'] = df['RAMAL'].astype(str)\n",
    "df['SENTIDO'] = df['SENTIDO'].astype(str)\n",
    "df['DURAÇÃO'] = pd.to_timedelta(df['DURAÇÃO']).dt.total_seconds().astype(int)\n",
    "\n",
    "df.dtypes"
   ]
  },
  {
   "cell_type": "code",
   "execution_count": null,
   "metadata": {},
   "outputs": [
    {
     "data": {
      "text/html": [
       "<div>\n",
       "<style scoped>\n",
       "    .dataframe tbody tr th:only-of-type {\n",
       "        vertical-align: middle;\n",
       "    }\n",
       "\n",
       "    .dataframe tbody tr th {\n",
       "        vertical-align: top;\n",
       "    }\n",
       "\n",
       "    .dataframe thead th {\n",
       "        text-align: right;\n",
       "    }\n",
       "</style>\n",
       "<table border=\"1\" class=\"dataframe\">\n",
       "  <thead>\n",
       "    <tr style=\"text-align: right;\">\n",
       "      <th></th>\n",
       "      <th>id</th>\n",
       "      <th>data_lig</th>\n",
       "      <th>evento</th>\n",
       "      <th>origem_lig</th>\n",
       "      <th>dest_lig</th>\n",
       "      <th>ramal</th>\n",
       "      <th>sentido</th>\n",
       "      <th>tempo_chamada</th>\n",
       "      <th>ramal_owner</th>\n",
       "      <th>email_aten_rls</th>\n",
       "      <th>email_admin_rls</th>\n",
       "    </tr>\n",
       "  </thead>\n",
       "  <tbody>\n",
       "    <tr>\n",
       "      <th>0</th>\n",
       "      <td>1704207224.494384</td>\n",
       "      <td>2024-01-02 11:53:44</td>\n",
       "      <td>Atendida</td>\n",
       "      <td>1142999147</td>\n",
       "      <td>5131910990</td>\n",
       "      <td>n</td>\n",
       "      <td>E</td>\n",
       "      <td>0</td>\n",
       "      <td>Outro</td>\n",
       "      <td>não mapeado</td>\n",
       "      <td>leandro.sprenger@fazcomex.com.br</td>\n",
       "    </tr>\n",
       "    <tr>\n",
       "      <th>1</th>\n",
       "      <td>1704208976.494873</td>\n",
       "      <td>2024-01-02 12:22:56</td>\n",
       "      <td>Atendida</td>\n",
       "      <td>19999155812</td>\n",
       "      <td>5125000770</td>\n",
       "      <td>n</td>\n",
       "      <td>E</td>\n",
       "      <td>0</td>\n",
       "      <td>Outro</td>\n",
       "      <td>não mapeado</td>\n",
       "      <td>leandro.sprenger@fazcomex.com.br</td>\n",
       "    </tr>\n",
       "    <tr>\n",
       "      <th>2</th>\n",
       "      <td>1704209001.494877</td>\n",
       "      <td>2024-01-02 12:23:21</td>\n",
       "      <td>Atendida</td>\n",
       "      <td>19999155812</td>\n",
       "      <td>5125000770</td>\n",
       "      <td>n</td>\n",
       "      <td>E</td>\n",
       "      <td>0</td>\n",
       "      <td>Outro</td>\n",
       "      <td>não mapeado</td>\n",
       "      <td>leandro.sprenger@fazcomex.com.br</td>\n",
       "    </tr>\n",
       "  </tbody>\n",
       "</table>\n",
       "</div>"
      ],
      "text/plain": [
       "                  id            data_lig    evento   origem_lig    dest_lig  \\\n",
       "0  1704207224.494384 2024-01-02 11:53:44  Atendida   1142999147  5131910990   \n",
       "1  1704208976.494873 2024-01-02 12:22:56  Atendida  19999155812  5125000770   \n",
       "2  1704209001.494877 2024-01-02 12:23:21  Atendida  19999155812  5125000770   \n",
       "\n",
       "  ramal sentido  tempo_chamada ramal_owner email_aten_rls  \\\n",
       "0     n       E              0       Outro    não mapeado   \n",
       "1     n       E              0       Outro    não mapeado   \n",
       "2     n       E              0       Outro    não mapeado   \n",
       "\n",
       "                    email_admin_rls  \n",
       "0  leandro.sprenger@fazcomex.com.br  \n",
       "1  leandro.sprenger@fazcomex.com.br  \n",
       "2  leandro.sprenger@fazcomex.com.br  "
      ]
     },
     "execution_count": 8,
     "metadata": {},
     "output_type": "execute_result"
    }
   ],
   "source": [
    "df_new = df.drop(columns=['FILA','GRAVAÇÃO'])\n",
    "\n",
    "df_new.columns = df_new.columns.str.lower()\n",
    "\n",
    "df_new = df_new.rename(columns={'nº a':'origem_lig','nº b':'dest_lig','hora':'data_lig','duração':'tempo_chamada'})\n",
    "\n",
    "df_new['dest_lig'] = df_new['dest_lig'].str.replace(r'^\\+?55', '', regex=True)\n",
    "df_new['ramal'] = df_new['ramal'].apply(lambda x: x[:-2])\n",
    "\n",
    "# Remover '.0' das colunas 'origem_lig' e 'dest_lig' (quando existir)\n",
    "df_new['origem_lig'] = df_new['origem_lig'].astype(str).str.replace(r'\\.0$', '', regex=True)\n",
    "df_new['dest_lig'] = df_new['dest_lig'].astype(str).str.replace(r'\\.0$', '', regex=True)\n",
    "\n",
    "mapa_ramal = {\n",
    "    '400': 'Financeiro',\n",
    "    '401': 'Inácio Moraes',\n",
    "    '402': 'Thayane Soares', #Andressa Kunt (trocar para andressa desde a entrada dela sem modificar as da thayane)\n",
    "    '403': 'Luis Correa',\n",
    "    '404': 'Larissa Melo',\n",
    "    '405': 'Greice Nunes',\n",
    "    '406': 'Leonardo Maciel'\n",
    "}\n",
    "\n",
    "mapa_email_aten = {\n",
    "    '400': 'financeiro@fazcomex.com.br',\n",
    "    '401': 'inacio.moraes@fazcomex.com.br',\n",
    "    '402': 'thayane.soares@fazcomex.com.br', #andressa.kunt@fazcomex.com.br\n",
    "    '403': 'luis.correa@fazcomex.com.br',\n",
    "    '404': 'larissa.melo@fazcomex.com.br',\n",
    "    '405': 'greice.nunes@fazcomex.com.br',\n",
    "    '406': 'leonardo.maciel@fazcomex.com.br'\n",
    "}\n",
    "\n",
    "# nova coluna 'ramal_owner' baseada no valor de 'ramal'\n",
    "df_new['ramal_owner'] = df_new['ramal'].map(mapa_ramal).fillna('Outro')\n",
    "\n",
    "# nova coluna de email pra aplicar RLS na base\n",
    "df_new['email_aten_rls'] = df_new['ramal'].map(mapa_email_aten).fillna('não mapeado')\n",
    "\n",
    "# nova coluna de email administrativo pro adm ver todos os dados\n",
    "df_new['email_admin_rls'] = 'leandro.sprenger@fazcomex.com.br'\n",
    "df_new.head(3)"
   ]
  },
  {
   "cell_type": "code",
   "execution_count": null,
   "metadata": {},
   "outputs": [],
   "source": [
    "df_new.to_csv(\"tb_ligacoes.csv\", index=False)"
   ]
  }
 ],
 "metadata": {
  "kernelspec": {
   "display_name": "Python 3",
   "language": "python",
   "name": "python3"
  },
  "language_info": {
   "codemirror_mode": {
    "name": "ipython",
    "version": 3
   },
   "file_extension": ".py",
   "mimetype": "text/x-python",
   "name": "python",
   "nbconvert_exporter": "python",
   "pygments_lexer": "ipython3",
   "version": "3.11.9"
  }
 },
 "nbformat": 4,
 "nbformat_minor": 2
}
