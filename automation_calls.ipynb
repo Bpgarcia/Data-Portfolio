{
 "cells": [
  {
   "cell_type": "code",
   "execution_count": 1,
   "metadata": {},
   "outputs": [],
   "source": [
    "from selenium import webdriver\n",
    "from selenium.webdriver.common.by import By\n",
    "from selenium.webdriver.common.keys import Keys\n",
    "from datetime import datetime, timedelta\n",
    "from selenium.webdriver.support.ui import WebDriverWait\n",
    "from selenium.webdriver.support import expected_conditions as EC\n",
    "import time"
   ]
  },
  {
   "cell_type": "markdown",
   "metadata": {},
   "source": [
    "### LOGIN"
   ]
  },
  {
   "cell_type": "code",
   "execution_count": null,
   "metadata": {},
   "outputs": [],
   "source": [
    "driver = webdriver.Chrome()\n",
    "driver.get(\"https://linkfromyourwebsite.com\") #input website link\n",
    "\n",
    "# Find login and password fields\n",
    "username_field = driver.find_element(By.NAME, \"login\") \n",
    "password_field = driver.find_element(By.NAME, \"pass\")  \n",
    "\n",
    "# Insert credentials\n",
    "username_field.send_keys(\"username\")  #input username\n",
    "password_field.send_keys(\"password\")  #input password\n",
    "\n",
    "# Press Login button\n",
    "password_field.send_keys(Keys.RETURN)\n",
    "\n",
    "time.sleep(5)"
   ]
  },
  {
   "cell_type": "markdown",
   "metadata": {},
   "source": [
    "### Date Filter"
   ]
  },
  {
   "cell_type": "code",
   "execution_count": null,
   "metadata": {},
   "outputs": [],
   "source": [
    "# Setting date to d-1 because in the website you have to input the date also\n",
    "start_datetime = (datetime.now() - timedelta(days=1)).strftime(\"%d/%m/%Y 00:00:00\")\n",
    "end_datetime = (datetime.now() - timedelta(days=1)).strftime(\"%d/%m/%Y 23:59:59\")    \n",
    "\n",
    "# Find the date filter fields\n",
    "start_date_field = driver.find_element(By.ID, \"start_date\")  \n",
    "end_date_field = driver.find_element(By.ID, \"end_date\")      \n",
    "\n",
    "# Fill in the fields with yesterday's date as per configuration\n",
    "start_date_field.clear()\n",
    "start_date_field.send_keys(start_datetime)  \n",
    "end_date_field.clear()\n",
    "end_date_field.send_keys(end_datetime)      \n",
    "\n",
    "# Click the button to apply the filter\n",
    "search_button = driver.find_element(By.CLASS_NAME, \"btn-primary\") \n",
    "search_button.click()"
   ]
  },
  {
   "cell_type": "markdown",
   "metadata": {},
   "source": [
    "### Download Table"
   ]
  },
  {
   "cell_type": "code",
   "execution_count": null,
   "metadata": {},
   "outputs": [],
   "source": [
    "download_button = WebDriverWait(driver, 5).until(\n",
    "    EC.element_to_be_clickable((By.ID, \"button_csv\"))\n",
    ")\n",
    "\n",
    "download_button.click()\n",
    "time.sleep(4)\n",
    "driver.quit()"
   ]
  },
  {
   "cell_type": "markdown",
   "metadata": {},
   "source": [
    "### Incremental update"
   ]
  },
  {
   "cell_type": "code",
   "execution_count": null,
   "metadata": {},
   "outputs": [],
   "source": [
    "import pandas as pd\n",
    "import glob\n",
    "import os"
   ]
  },
  {
   "cell_type": "code",
   "execution_count": null,
   "metadata": {},
   "outputs": [],
   "source": [
    "# Set the directory where the CSV file is downloaded\n",
    "diretorio_downloads = r\"C:\\Users\\Bruno\\Downloads\"\n",
    "\n",
    "# Search for the file that starts with \"calls_report\" in the directory\n",
    "arquivos_csv = glob.glob(os.path.join(diretorio_downloads, \"calls_report_*.csv\"))\n",
    "\n",
    "if arquivos_csv:\n",
    "    # Select the most recent file\n",
    "    arquivo_csv = max(arquivos_csv, key=os.path.getctime)\n",
    "    print(f\"File detected: {arquivo_csv}\")\n",
    "else:\n",
    "    print(\"No files found with the specified pattern\")\n",
    "    exit()  "
   ]
  },
  {
   "cell_type": "code",
   "execution_count": null,
   "metadata": {},
   "outputs": [],
   "source": [
    "file_path_xlsx = r\"C:\\Users\\Bruno\\Documents\\ligacoes\\ligacoes_2024_25.xlsx\"\n",
    "\n",
    "# Load existing XLSX calls table\n",
    "calls_table = pd.read_excel(file_path_xlsx)\n",
    "\n",
    "# Load detected csv_file\n",
    "new_data = pd.read_csv(arquivo_csv)\n",
    "\n",
    "# Do an incremental merge based on the ID column\n",
    "df = pd.concat([calls_table, new_data]).drop_duplicates(subset=['ID'], keep='last')\n",
    "df = df.iloc[:-1]\n",
    "\n",
    "# Save the updated excel in the folder\n",
    "df.to_excel(file_path_xlsx, index=False)\n",
    "print(f\"Updated Excel file saved in {file_path_xlsx}\")\n"
   ]
  },
  {
   "cell_type": "markdown",
   "metadata": {},
   "source": [
    "### Transformations"
   ]
  },
  {
   "cell_type": "code",
   "execution_count": null,
   "metadata": {},
   "outputs": [
    {
     "data": {
      "text/plain": [
       "ID                  object\n",
       "HORA        datetime64[ns]\n",
       "EVENTO              object\n",
       "Nº A                object\n",
       "Nº B                object\n",
       "RAMAL               object\n",
       "SENTIDO             object\n",
       "DURAÇÃO              int64\n",
       "FILA                object\n",
       "GRAVAÇÃO            object\n",
       "dtype: object"
      ]
     },
     "execution_count": 7,
     "metadata": {},
     "output_type": "execute_result"
    }
   ],
   "source": [
    "# converting columns types\n",
    "df['ID'] = df['ID'].astype(str)\n",
    "df[\"HORA\"] = pd.to_datetime(df[\"HORA\"], format='%d/%m/%Y %H:%M:%S')\n",
    "df['Nº A'] = df['Nº A'].astype(str)\n",
    "df['Nº B'] = df['Nº B'].astype(str)\n",
    "df['RAMAL'] = df['RAMAL'].astype(str)\n",
    "df['SENTIDO'] = df['SENTIDO'].astype(str)\n",
    "df['DURAÇÃO'] = pd.to_timedelta(df['DURAÇÃO']).dt.total_seconds().astype(int)\n",
    "\n",
    "df.dtypes"
   ]
  },
  {
   "cell_type": "code",
   "execution_count": null,
   "metadata": {},
   "outputs": [],
   "source": [
    "df_new = df.drop(columns=['FILA','GRAVAÇÃO'])\n",
    "\n",
    "df_new.columns = df_new.columns.str.lower()\n",
    "\n",
    "df_new = df_new.rename(columns={'nº a':'origem_lig','nº b':'dest_lig','hora':'data_lig','duração':'tempo_chamada'})\n",
    "\n",
    "df_new['dest_lig'] = df_new['dest_lig'].str.replace(r'^\\+?55', '', regex=True)\n",
    "df_new['ramal'] = df_new['ramal'].apply(lambda x: x[:-2])\n",
    "\n",
    "# Remover '.0' das colunas 'origem_lig' e 'dest_lig' (quando existir)\n",
    "df_new['origem_lig'] = df_new['origem_lig'].astype(str).str.replace(r'\\.0$', '', regex=True)\n",
    "df_new['dest_lig'] = df_new['dest_lig'].astype(str).str.replace(r'\\.0$', '', regex=True)"
   ]
  },
  {
   "cell_type": "code",
   "execution_count": null,
   "metadata": {},
   "outputs": [],
   "source": [
    "df_new.to_csv(\"tb_ligacoes.csv\", index=False)"
   ]
  }
 ],
 "metadata": {
  "kernelspec": {
   "display_name": "Python 3",
   "language": "python",
   "name": "python3"
  },
  "language_info": {
   "codemirror_mode": {
    "name": "ipython",
    "version": 3
   },
   "file_extension": ".py",
   "mimetype": "text/x-python",
   "name": "python",
   "nbconvert_exporter": "python",
   "pygments_lexer": "ipython3",
   "version": "3.11.9"
  }
 },
 "nbformat": 4,
 "nbformat_minor": 2
}
